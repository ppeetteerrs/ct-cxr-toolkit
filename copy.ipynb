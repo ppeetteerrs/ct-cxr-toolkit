{
 "cells": [
  {
   "cell_type": "code",
   "execution_count": 5,
   "metadata": {},
   "outputs": [],
   "source": [
    "import pickle\n",
    "import shutil\n",
    "from pathlib import Path\n",
    "from ct_positive import ct_train, ct_test"
   ]
  },
  {
   "cell_type": "code",
   "execution_count": 8,
   "metadata": {},
   "outputs": [
    {
     "name": "stdout",
     "output_type": "stream",
     "text": [
      "642 95\n"
     ]
    }
   ],
   "source": [
    "indices = pickle.load(open(\"output/pneumonia.pkl\", \"rb\"))\n",
    "trains = indices[\"train\"] + ct_train\n",
    "tests = indices[\"test\"] + ct_test\n",
    "print(len(trains), len(tests))"
   ]
  },
  {
   "cell_type": "code",
   "execution_count": 9,
   "metadata": {},
   "outputs": [],
   "source": [
    "mapping = {\n",
    "    \"train\": {\n",
    "        new_ind: old_ind for new_ind, old_ind in enumerate(trains)\n",
    "    },\n",
    "    \"test\": {\n",
    "        new_ind: old_ind for new_ind, old_ind in enumerate(tests)\n",
    "    }\n",
    "}"
   ]
  },
  {
   "cell_type": "code",
   "execution_count": 12,
   "metadata": {},
   "outputs": [],
   "source": [
    "pickle.dump(mapping, open(\"mapping.pkl\", \"wb\"))"
   ]
  },
  {
   "cell_type": "code",
   "execution_count": 3,
   "metadata": {},
   "outputs": [],
   "source": [
    "for new_ind, old_ind in enumerate(trains):\n",
    "    old_name = f\"{str(old_ind).zfill(6)}.png\"\n",
    "    new_name = f\"{str(new_ind).zfill(6)}.png\"\n",
    "    for subfolder in [\"bones\", \"drr\", \"localizer\", \"lung\", \"soft\"]:\n",
    "        new_dir = Path(f\"output/covid_ct_pneumonia_obvious/train/{subfolder}\")\n",
    "        new_dir.mkdir(parents=True, exist_ok=True)\n",
    "        shutil.copyfile(f\"output/covid_ct/train/{subfolder}/{old_name}\", str(new_dir / new_name))"
   ]
  },
  {
   "cell_type": "code",
   "execution_count": 4,
   "metadata": {},
   "outputs": [],
   "source": [
    "for new_ind, old_ind in enumerate(tests):\n",
    "    old_name = f\"{str(old_ind).zfill(6)}.png\"\n",
    "    new_name = f\"{str(new_ind).zfill(6)}.png\"\n",
    "    for subfolder in [\"bones\", \"drr\", \"localizer\", \"lung\", \"soft\"]:\n",
    "        new_dir = Path(f\"output/covid_ct_pneumonia_obvious/test/{subfolder}\")\n",
    "        new_dir.mkdir(parents=True, exist_ok=True)\n",
    "        shutil.copyfile(f\"output/covid_ct/test/{subfolder}/{old_name}\", str(new_dir / new_name))"
   ]
  },
  {
   "cell_type": "code",
   "execution_count": null,
   "metadata": {},
   "outputs": [],
   "source": []
  }
 ],
 "metadata": {
  "interpreter": {
   "hash": "45e0acf3aaa0c86bae9b8152225e6af3a989c01d4699619c71c813825d4fb049"
  },
  "kernelspec": {
   "display_name": "Python 3.9.7 ('base')",
   "language": "python",
   "name": "python3"
  },
  "language_info": {
   "codemirror_mode": {
    "name": "ipython",
    "version": 3
   },
   "file_extension": ".py",
   "mimetype": "text/x-python",
   "name": "python",
   "nbconvert_exporter": "python",
   "pygments_lexer": "ipython3",
   "version": "3.9.10"
  },
  "orig_nbformat": 4
 },
 "nbformat": 4,
 "nbformat_minor": 2
}
