{
 "cells": [
  {
   "cell_type": "code",
   "execution_count": 3,
   "metadata": {},
   "outputs": [],
   "source": [
    "import sys\n",
    "\n",
    "sys.path.append(\"..\")\n",
    "import warnings\n",
    "from dataclasses import dataclass\n",
    "from pathlib import Path\n",
    "from tempfile import mkdtemp\n",
    "from typing import List, Tuple\n",
    "\n",
    "import numpy as np\n",
    "import pandas as pd\n",
    "import SimpleITK as sitk\n",
    "from deepdrr import MobileCArm, Volume\n",
    "from deepdrr.projector import Projector\n",
    "from tqdm import tqdm\n",
    "from tqdm.contrib.concurrent import process_map\n",
    "from utils.cv import crop, min_max_normalize\n",
    "from ct.utils import read_dcm\n",
    "from utils.utils import save_img, track\n",
    "import deepdrr\n",
    "import pyvista\n",
    "from utils.plot import plot_grid\n",
    "from utils.cv import remove_border, crop\n",
    "from itertools import product\n",
    "\n",
    "import numpy as np\n",
    "import SimpleITK as sitk\n",
    "from deepdrr import MobileCArm, Volume\n",
    "from deepdrr.geo import FrameTransform\n",
    "from deepdrr.projector import Projector\n",
    "import pickle\n",
    "\n",
    "pyvista.start_xvfb()\n"
   ]
  },
  {
   "cell_type": "code",
   "execution_count": 2,
   "metadata": {},
   "outputs": [],
   "source": [
    "def get_drr(img: sitk.Image, move_by: int = 750) -> np.ndarray:\n",
    "    # Extract pixel and material data from sitk\n",
    "    hu_values = np.transpose(sitk.GetArrayFromImage(img), [2, 1, 0]).astype(float)\n",
    "    data = Volume._convert_hounsfield_to_density(hu_values)\n",
    "    materials = Volume.segment_materials(\n",
    "        hu_values, use_thresholding=True, use_cached=False\n",
    "    )\n",
    "\n",
    "    # Set up nifti affine\n",
    "    affine = np.zeros((4, 4))\n",
    "    origin = img.GetOrigin()\n",
    "    direction = np.array(img.GetDirection()).reshape((3, 3))\n",
    "    for (i, j) in product(range(3), repeat=2):\n",
    "        if direction[i][j] != 0:\n",
    "            affine[i][j] = direction[i][j]\n",
    "    affine[:3, 3] = origin\n",
    "    affine[:2, :] *= np.sign(origin[2]) + int(origin[2] == 0)\n",
    "    affine[3, 3] = 1.0\n",
    "    anatomical_from_ijk = FrameTransform(affine)\n",
    "    volume = Volume(data, materials, anatomical_from_ijk, None, \"RAS\")\n",
    "    volume.facedown()\n",
    "    carm = MobileCArm()\n",
    "    carm.reposition(volume.center_in_world)\n",
    "    carm.move_to(alpha=0, beta=-180, degrees=True)\n",
    "    carm.move_by((0, 0, move_by))\n",
    "    warnings.filterwarnings(\"ignore\")\n",
    "    return deepdrr.vis.show(volume, carm, full=[True, True]);"
   ]
  },
  {
   "cell_type": "code",
   "execution_count": 12,
   "metadata": {},
   "outputs": [],
   "source": [
    "img1, img2 = read_dcm(pickle.load(open(\"../output/covid_ct_train_meta.pkl\", \"rb\"))[\"lung\"].tolist()[0])"
   ]
  },
  {
   "cell_type": "code",
   "execution_count": 13,
   "metadata": {},
   "outputs": [
    {
     "ename": "NameError",
     "evalue": "name 'vol' is not defined",
     "output_type": "error",
     "traceback": [
      "\u001b[0;31m---------------------------------------------------------------------------\u001b[0m",
      "\u001b[0;31mNameError\u001b[0m                                 Traceback (most recent call last)",
      "\u001b[1;32m/workspace/notebook/deep_drr_report.ipynb Cell 4'\u001b[0m in \u001b[0;36m<cell line: 1>\u001b[0;34m()\u001b[0m\n\u001b[0;32m----> <a href='vscode-notebook-cell://dev-container%2B7b22686f737450617468223a222f686f6d652f70657465722f63742d6378722d746f6f6c6b6974222c226c6f63616c446f636b6572223a66616c73652c2273657474696e6773223a7b22686f7374223a227373683a2f2f7063227d7d/workspace/notebook/deep_drr_report.ipynb#ch0000002vscode-remote?line=0'>1</a>\u001b[0m get_drr(img1)\n",
      "\u001b[1;32m/workspace/notebook/deep_drr_report.ipynb Cell 2'\u001b[0m in \u001b[0;36mget_drr\u001b[0;34m(img, move_by)\u001b[0m\n\u001b[1;32m     <a href='vscode-notebook-cell://dev-container%2B7b22686f737450617468223a222f686f6d652f70657465722f63742d6378722d746f6f6c6b6974222c226c6f63616c446f636b6572223a66616c73652c2273657474696e6773223a7b22686f7374223a227373683a2f2f7063227d7d/workspace/notebook/deep_drr_report.ipynb#ch0000006vscode-remote?line=24'>25</a>\u001b[0m carm\u001b[39m.\u001b[39mmove_by((\u001b[39m0\u001b[39m, \u001b[39m0\u001b[39m, move_by))\n\u001b[1;32m     <a href='vscode-notebook-cell://dev-container%2B7b22686f737450617468223a222f686f6d652f70657465722f63742d6378722d746f6f6c6b6974222c226c6f63616c446f636b6572223a66616c73652c2273657474696e6773223a7b22686f7374223a227373683a2f2f7063227d7d/workspace/notebook/deep_drr_report.ipynb#ch0000006vscode-remote?line=25'>26</a>\u001b[0m warnings\u001b[39m.\u001b[39mfilterwarnings(\u001b[39m\"\u001b[39m\u001b[39mignore\u001b[39m\u001b[39m\"\u001b[39m)\n\u001b[0;32m---> <a href='vscode-notebook-cell://dev-container%2B7b22686f737450617468223a222f686f6d652f70657465722f63742d6378722d746f6f6c6b6974222c226c6f63616c446f636b6572223a66616c73652c2273657474696e6773223a7b22686f7374223a227373683a2f2f7063227d7d/workspace/notebook/deep_drr_report.ipynb#ch0000006vscode-remote?line=26'>27</a>\u001b[0m \u001b[39mreturn\u001b[39;00m deepdrr\u001b[39m.\u001b[39mvis\u001b[39m.\u001b[39mshow(vol, carm, full\u001b[39m=\u001b[39m[\u001b[39mTrue\u001b[39;00m, \u001b[39mTrue\u001b[39;00m])\n",
      "\u001b[0;31mNameError\u001b[0m: name 'vol' is not defined"
     ]
    }
   ],
   "source": [
    "get_drr(img1)"
   ]
  },
  {
   "cell_type": "code",
   "execution_count": null,
   "metadata": {},
   "outputs": [],
   "source": []
  }
 ],
 "metadata": {
  "interpreter": {
   "hash": "a533f560213617316ebe7889d5c3b26b9eab22f01fa1fd7fe8748a96818d48be"
  },
  "kernelspec": {
   "display_name": "Python 3.9.7 ('fyp')",
   "language": "python",
   "name": "python3"
  },
  "language_info": {
   "codemirror_mode": {
    "name": "ipython",
    "version": 3
   },
   "file_extension": ".py",
   "mimetype": "text/x-python",
   "name": "python",
   "nbconvert_exporter": "python",
   "pygments_lexer": "ipython3",
   "version": "3.9.10"
  },
  "orig_nbformat": 4
 },
 "nbformat": 4,
 "nbformat_minor": 2
}
