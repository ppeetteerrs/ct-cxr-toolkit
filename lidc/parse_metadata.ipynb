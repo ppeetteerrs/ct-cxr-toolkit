{
 "cells": [
  {
   "cell_type": "code",
   "execution_count": 1,
   "metadata": {},
   "outputs": [],
   "source": [
    "\"\"\"\n",
    "Import libraries and setup DicomMetaParser object.\n",
    "\"\"\"\n",
    "\n",
    "import pandas as pd\n",
    "from pathlib import Path\n",
    "import sys\n",
    "Path(\"output\").mkdir(parents=True, exist_ok=True)\n",
    "sys.path.append(\"../\")\n",
    "\n",
    "from lib.dicom import DicomMetaParser\n",
    "from lib.utils import load\n",
    "from lidc.utils import parse_subject\n",
    "\n",
    "parser = DicomMetaParser(\"/data/lidc\", parse_subject, n_workers=4)"
   ]
  },
  {
   "cell_type": "code",
   "execution_count": 2,
   "metadata": {},
   "outputs": [
    {
     "data": {
      "application/vnd.jupyter.widget-view+json": {
       "model_id": "9d3ed6b45e39411a9bad7d98dcb09149",
       "version_major": 2,
       "version_minor": 0
      },
      "text/plain": [
       "Parsing DICOM metadata:   0%|          | 0/244527 [00:00<?, ?it/s]"
      ]
     },
     "metadata": {},
     "output_type": "display_data"
    },
    {
     "name": "stdout",
     "output_type": "stream",
     "text": [
      "Field: AnatomicRegionSequence is unhashable, setting to nan...\n",
      "Field: VOILUTSequence is unhashable, setting to nan...\n",
      "Field: AnatomicRegionSequence is unhashable, setting to nan...Field: AnatomicRegionSequence is unhashable, setting to nan...\n",
      "\n",
      "Field: AnatomicRegionSequence is unhashable, setting to nan...\n",
      "Field: VOILUTSequence is unhashable, setting to nan...Field: VOILUTSequence is unhashable, setting to nan...\n",
      "\n",
      "Field: RequestAttributesSequence is unhashable, setting to nan...\n",
      "Field: RequestAttributesSequence is unhashable, setting to nan...\n",
      "Field: RequestAttributesSequence is unhashable, setting to nan...Field: RequestAttributesSequence is unhashable, setting to nan...\n",
      "\n",
      "Field: RequestedProcedureCodeSequence is unhashable, setting to nan...\n",
      "Field: PatientOrientationCodeSequence is unhashable, setting to nan...\n",
      "Field: PatientOrientationCodeSequence is unhashable, setting to nan...\n",
      "Field: ViewCodeSequence is unhashable, setting to nan...\n",
      "Field: ViewCodeSequence is unhashable, setting to nan...\n",
      "Field: VOILUTSequence is unhashable, setting to nan...\n",
      "Field: RequestedProcedureCodeSequence is unhashable, setting to nan...\n",
      "Field: RequestedProcedureCodeSequence is unhashable, setting to nan...\n",
      "Field: RequestedProcedureCodeSequence is unhashable, setting to nan...\n",
      "Field: PatientOrientationCodeSequence is unhashable, setting to nan...\n",
      "Field: ViewCodeSequence is unhashable, setting to nan...\n",
      "Field: ProcedureCodeSequence is unhashable, setting to nan...Field: ProcedureCodeSequence is unhashable, setting to nan...\n",
      "\n",
      "Field: ProcedureCodeSequence is unhashable, setting to nan...\n",
      "Field: ProcedureCodeSequence is unhashable, setting to nan...\n"
     ]
    }
   ],
   "source": [
    "\"\"\"\n",
    "Run this cell to re-parse DICOM metadata.\n",
    "\"\"\"\n",
    "\n",
    "df = parser.parse()\n",
    "df.to_pickle(\"output/metadata.pkl\")\n",
    "# Uncomment to check dataframe column properties\n",
    "# parser.check_df(df)"
   ]
  },
  {
   "cell_type": "code",
   "execution_count": 3,
   "metadata": {},
   "outputs": [],
   "source": [
    "\"\"\"\n",
    "Run this cell to generate DICOM paths for creating dataset based on metadata.pkl generated above.\n",
    "\"\"\"\n",
    "\n",
    "df = pd.read_pickle(\"output/metadata.pkl\")\n",
    "subject_info = load(\"input/subject_info.pkl\")\n",
    "\n",
    "# Remove bad (blurry / movement artifacts) and negative subjects\n",
    "df = df[~df[\"Subject\"].isin(subject_info[\"bad\"])]\n",
    "\n",
    "df = df.query(\"PatientPosition == 'FFS' & PhotometricInterpretation == 'MONOCHROME2'\")\n",
    "is_primary = df.apply(lambda x: x[\"ImageType\"][0] == \"ORIGINAL\" and x[\"ImageType\"][1] == \"PRIMARY\", axis=1)\n",
    "df = df[is_primary].reset_index(drop=True)\n",
    "\n",
    "# Select DICOM series (based on SeriesNumber) with minimum slice thickness from each CT Type\n",
    "df = parser.select_min(df, sub_category=[])\n",
    "\n",
    "# Check that specified fields are consistent within each DICOM Series\n",
    "df = parser.check_series_consistency(\n",
    "    df,\n",
    "    [\n",
    "        \"ImageOrientationPatient\",\n",
    "        \"SeriesDescription\",\n",
    "        \"PixelSpacing\",\n",
    "    ],\n",
    ")\n",
    "\n",
    "df[\"Type\"] = \"lung\"\n",
    "\n",
    "# Extract file paths for each unique DICOM series (based on Subject and Type)\n",
    "paths_df = parser.to_path_list(df, sort_by=\"Path\")\n",
    "paths_df.to_pickle(\"output/ct_paths.pkl\")\n"
   ]
  },
  {
   "cell_type": "code",
   "execution_count": null,
   "metadata": {},
   "outputs": [],
   "source": []
  }
 ],
 "metadata": {
  "interpreter": {
   "hash": "2a2f233191b82b47233b539c7573f64d79f81d06fd7b9f837f44e82bffd665fe"
  },
  "kernelspec": {
   "display_name": "Python 3.8.12 ('user')",
   "language": "python",
   "name": "python3"
  },
  "language_info": {
   "codemirror_mode": {
    "name": "ipython",
    "version": 3
   },
   "file_extension": ".py",
   "mimetype": "text/x-python",
   "name": "python",
   "nbconvert_exporter": "python",
   "pygments_lexer": "ipython3",
   "version": "3.8.12"
  },
  "orig_nbformat": 4
 },
 "nbformat": 4,
 "nbformat_minor": 2
}
