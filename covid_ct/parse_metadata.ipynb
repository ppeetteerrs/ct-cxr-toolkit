{
 "cells": [
  {
   "cell_type": "code",
   "execution_count": 1,
   "metadata": {},
   "outputs": [],
   "source": [
    "\"\"\"\n",
    "Import libraries and setup DicomMetaParser object.\n",
    "\"\"\"\n",
    "\n",
    "import pandas as pd\n",
    "from pathlib import Path\n",
    "import sys\n",
    "Path(\"output\").mkdir(parents=True, exist_ok=True)\n",
    "sys.path.append(\"../\")\n",
    "\n",
    "from lib.dicom import DicomMetaParser\n",
    "from lib.utils import load\n",
    "from covid_ct.utils import filter_all_types, classify_images, parse_subject\n",
    "\n",
    "parser = DicomMetaParser(\"/data/covid_ct\", parse_subject)"
   ]
  },
  {
   "cell_type": "code",
   "execution_count": 2,
   "metadata": {},
   "outputs": [
    {
     "data": {
      "application/vnd.jupyter.widget-view+json": {
       "model_id": "c67ae046351442d3b71ffb9c42885ac8",
       "version_major": 2,
       "version_minor": 0
      },
      "text/plain": [
       "Parsing DICOM metadata:   0%|          | 0/482874 [00:00<?, ?it/s]"
      ]
     },
     "metadata": {},
     "output_type": "display_data"
    }
   ],
   "source": [
    "\"\"\"\n",
    "Run this cell to re-parse DICOM metadata.\n",
    "\"\"\"\n",
    "\n",
    "df = parser.parse()\n",
    "df.to_pickle(\"output/metadata.pkl\")\n",
    "# Uncomment to check dataframe column properties\n",
    "# parser.check_df(df)"
   ]
  },
  {
   "cell_type": "code",
   "execution_count": 3,
   "metadata": {},
   "outputs": [
    {
     "name": "stdout",
     "output_type": "stream",
     "text": [
      "735/735 subjects has lung + med + localizer\n"
     ]
    }
   ],
   "source": [
    "\"\"\"\n",
    "Run this cell to generate DICOM paths for creating dataset based on metadata.pkl generated above.\n",
    "\"\"\"\n",
    "\n",
    "df = pd.read_pickle(\"output/metadata.pkl\")\n",
    "subject_info = load(\"input/subject_info.pkl\")\n",
    "\n",
    "# Remove bad (blurry / movement artifacts) and negative subjects\n",
    "df = df[\n",
    "    (~df[\"Subject\"].isin(subject_info[\"bad\"])) & (df[\"Subject\"].isin(subject_info[\"positive\"]))\n",
    "]\n",
    "\n",
    "# Classify CTs into lung vs med vs localizer Types\n",
    "df = classify_images(df)\n",
    "\n",
    "# Select DICOM series (based on SeriesNumber) with minimum slice thickness from each CT Type\n",
    "df = parser.select_min(df, sub_category=[\"Type\"])\n",
    "\n",
    "# Only select subjects with all 3 (lung, med, localizer) types of CT\n",
    "df = filter_all_types(df)\n",
    "\n",
    "# Check that specified fields are consistent within each DICOM Series\n",
    "df = parser.check_series_consistency(\n",
    "    df,\n",
    "    [\n",
    "        \"ImageOrientationPatient\",\n",
    "        \"SeriesDescription\",\n",
    "        \"PixelSpacing\",\n",
    "        \"ImageType\",\n",
    "    ],\n",
    ")\n",
    "\n",
    "# Extract file paths for each unique DICOM series (based on Subject and Type)\n",
    "paths_df = parser.to_path_list(df)\n",
    "paths_df.to_pickle(\"output/ct_paths.pkl\")"
   ]
  }
 ],
 "metadata": {
  "interpreter": {
   "hash": "2a2f233191b82b47233b539c7573f64d79f81d06fd7b9f837f44e82bffd665fe"
  },
  "kernelspec": {
   "display_name": "Python 3.8.12 ('user')",
   "language": "python",
   "name": "python3"
  },
  "language_info": {
   "codemirror_mode": {
    "name": "ipython",
    "version": 3
   },
   "file_extension": ".py",
   "mimetype": "text/x-python",
   "name": "python",
   "nbconvert_exporter": "python",
   "pygments_lexer": "ipython3",
   "version": "3.8.12"
  },
  "orig_nbformat": 4
 },
 "nbformat": 4,
 "nbformat_minor": 2
}
